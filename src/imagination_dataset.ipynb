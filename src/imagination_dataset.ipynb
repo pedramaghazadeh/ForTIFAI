{
 "cells": [
  {
   "cell_type": "code",
   "execution_count": 18,
   "metadata": {},
   "outputs": [],
   "source": [
    "import json\n",
    "\n",
    "import numpy as np\n",
    "import pandas as pd\n",
    "\n",
    "from datasets import load_dataset\n",
    "from transformers import AutoTokenizer\n",
    "from transformers import AutoModelForTokenClassification\n",
    "from transformers import pipeline"
   ]
  },
  {
   "cell_type": "code",
   "execution_count": 11,
   "metadata": {},
   "outputs": [],
   "source": [
    "hellaswag = load_dataset(\"hellaswag\")\n",
    "gsm = load_dataset(\"gsm8k\", \"main\")\n",
    "wikitext = load_dataset(\"wikitext\", \"wikitext-2-raw-v1\")"
   ]
  },
  {
   "cell_type": "code",
   "execution_count": 12,
   "metadata": {},
   "outputs": [],
   "source": [
    "gsm_texts = [item[\"question\"] + \" \" + item[\"answer\"] for item in gsm[\"train\"]]\n",
    "hellaswag_texts = [f\"{item['ctx']}{item['endings'][int(item['label'])]}\" for item in hellaswag[\"train\"]][:3000]\n",
    "wikitext_texts = [item[\"text\"] for item in wikitext[\"train\"]]\n",
    "wikitext_texts = wikitext_texts[:len(wikitext_texts) // 2]\n",
    "\n",
    "# Removing new lines from texts\n",
    "gsm_texts = [text.replace(\"\\n\", \" \") for text in gsm_texts]\n",
    "wikitext_texts = [text.replace(\"\\n\", \" \") for text in wikitext_texts]\n",
    "hellaswag_texts = [text.replace(\"\\n\", \" \") for text in hellaswag_texts]"
   ]
  },
  {
   "cell_type": "code",
   "execution_count": 13,
   "metadata": {},
   "outputs": [
    {
     "name": "stdout",
     "output_type": "stream",
     "text": [
      "hellaswag 3000\n",
      "gsm 7473\n",
      "wikitext 18359\n"
     ]
    }
   ],
   "source": [
    "print(\"hellaswag\", len(hellaswag_texts))\n",
    "print(\"gsm\", len(gsm_texts))\n",
    "print(\"wikitext\", len(wikitext_texts))"
   ]
  },
  {
   "cell_type": "code",
   "execution_count": 14,
   "metadata": {},
   "outputs": [],
   "source": [
    "concatenated_texts = []\n",
    "for i in range(6):\n",
    "    st, en = i / 6 * len(wikitext_texts), (i + 1) / 6 * len(wikitext_texts)\n",
    "    concatenated_texts += wikitext_texts[int(st):int(en)]\n",
    "\n",
    "    st, en = i / 6 * len(hellaswag_texts), (i + 1) / 6 * len(hellaswag_texts)\n",
    "    concatenated_texts += hellaswag_texts[int(st):int(en)]\n",
    "\n",
    "    st, en = i / 6 * len(gsm_texts), (i + 1) / 6 * len(gsm_texts)\n",
    "    concatenated_texts += gsm_texts[int(st):int(en)]"
   ]
  },
  {
   "cell_type": "code",
   "execution_count": 15,
   "metadata": {},
   "outputs": [],
   "source": [
    "with open(\"imagination_dataset.txt\", \"w\") as f:\n",
    "    for text in concatenated_texts:\n",
    "        f.write(text + \"\\n\")"
   ]
  },
  {
   "cell_type": "code",
   "execution_count": 16,
   "metadata": {},
   "outputs": [],
   "source": [
    "with open(\"wikitext.txt\", \"w\") as f:\n",
    "    for text in wikitext_texts:\n",
    "        f.write(text + \"\\n\")"
   ]
  },
  {
   "cell_type": "code",
   "execution_count": 17,
   "metadata": {},
   "outputs": [
    {
     "name": "stdout",
     "output_type": "stream",
     "text": [
      "1848547 imagination_dataset.txt\n"
     ]
    }
   ],
   "source": [
    "! wc -w imagination_dataset.txt"
   ]
  },
  {
   "cell_type": "code",
   "execution_count": 19,
   "metadata": {},
   "outputs": [],
   "source": [
    "kt_full = json.load(open(\"kt_dataset_gpt_mini.json\"))"
   ]
  },
  {
   "cell_type": "markdown",
   "metadata": {},
   "source": [
    "Using only half of the KT_test"
   ]
  },
  {
   "cell_type": "code",
   "execution_count": 31,
   "metadata": {},
   "outputs": [],
   "source": [
    "length = len(kt_full)\n",
    "length = length // 2\n",
    "length += (5 - length % 5)\n",
    "length -= 1"
   ]
  },
  {
   "cell_type": "code",
   "execution_count": 30,
   "metadata": {},
   "outputs": [
    {
     "data": {
      "text/plain": [
       "{'context': 'Humpty Dumpty has been adapted in various forms of media, including music and literature over the decades.',\n",
       " 'sentence_true': 'His character is mentioned in songs by artists such as Hank Thompson and Aretha Franklin.',\n",
       " 'sentence_false': 'His character is mentioned in songs only by instrumentalists like Ornette Coleman and Chick Corea.',\n",
       " 'location': 17914}"
      ]
     },
     "execution_count": 30,
     "metadata": {},
     "output_type": "execute_result"
    }
   ],
   "source": [
    "kt_full[length - 1]"
   ]
  },
  {
   "cell_type": "markdown",
   "metadata": {},
   "source": [
    "Humpty Dumpty is the last topic in the imagination dataset"
   ]
  },
  {
   "cell_type": "code",
   "execution_count": 34,
   "metadata": {},
   "outputs": [],
   "source": [
    "# Saving the new KT_dataset\n",
    "with open(\"kt_dataset_gpt_mini_imagination.json\", \"w\") as f:\n",
    "    json.dump(kt_full[:length], f, indent=4)"
   ]
  }
 ],
 "metadata": {
  "kernelspec": {
   "display_name": "echo-llm",
   "language": "python",
   "name": "python3"
  },
  "language_info": {
   "codemirror_mode": {
    "name": "ipython",
    "version": 3
   },
   "file_extension": ".py",
   "mimetype": "text/x-python",
   "name": "python",
   "nbconvert_exporter": "python",
   "pygments_lexer": "ipython3",
   "version": "3.12.5"
  }
 },
 "nbformat": 4,
 "nbformat_minor": 2
}
